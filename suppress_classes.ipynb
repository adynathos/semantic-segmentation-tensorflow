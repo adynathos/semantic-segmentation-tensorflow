{
 "cells": [
  {
   "cell_type": "code",
   "execution_count": null,
   "metadata": {},
   "outputs": [],
   "source": [
    "import argparse\n",
    "import os\n",
    "import sys\n",
    "import time\n",
    "from PIL import Image\n",
    "import tensorflow as tf\n",
    "import numpy as np\n",
    "from scipy import misc\n",
    "\n",
    "from model import FCN8s, PSPNet50, ENet, ICNet\n",
    "\n",
    "save_dir = './output/'\n",
    "model_path = {'pspnet': '/cvlabdata1/home/lis/pretrained/pspnet50.npy',\n",
    "              'fcn': './model/fcn.npy',\n",
    "              'enet': './model/cityscapes/enet.ckpt',\n",
    "              'icnet': './model/cityscapes/icnet.npy'}\n",
    "\n"
   ]
  },
  {
   "cell_type": "code",
   "execution_count": null,
   "metadata": {},
   "outputs": [],
   "source": [
    "from matplotlib import pyplot as plt"
   ]
  },
  {
   "cell_type": "code",
   "execution_count": null,
   "metadata": {},
   "outputs": [],
   "source": []
  },
  {
   "cell_type": "code",
   "execution_count": null,
   "metadata": {},
   "outputs": [],
   "source": [
    "psp_net = PSPNet50()"
   ]
  },
  {
   "cell_type": "code",
   "execution_count": null,
   "metadata": {},
   "outputs": [],
   "source": []
  },
  {
   "cell_type": "code",
   "execution_count": null,
   "metadata": {},
   "outputs": [],
   "source": [
    "\n",
    "# Init tf Session\n",
    "config = tf.ConfigProto()\n",
    "config.gpu_options.allow_growth = True\n",
    "#config.log_device_placement = True\n",
    "\n",
    "sess = tf.Session(config=config)\n",
    "init = tf.global_variables_initializer()\n",
    "\n",
    "sess.run(init)"
   ]
  },
  {
   "cell_type": "code",
   "execution_count": null,
   "metadata": {},
   "outputs": [],
   "source": []
  },
  {
   "cell_type": "code",
   "execution_count": null,
   "metadata": {},
   "outputs": [],
   "source": []
  },
  {
   "cell_type": "code",
   "execution_count": null,
   "metadata": {},
   "outputs": [],
   "source": [
    "# load weights\n",
    "# set your weight path here\n",
    "psp_net.load('/cvlabdata1/home/lis/pretrained/pspnet50.npy', sess)"
   ]
  },
  {
   "cell_type": "code",
   "execution_count": null,
   "metadata": {},
   "outputs": [],
   "source": []
  },
  {
   "cell_type": "code",
   "execution_count": null,
   "metadata": {},
   "outputs": [],
   "source": [
    "def exec_net(net, img_path):\n",
    "\tpsp_net.read_input(img_path)\n",
    "\tresult = sess.run([net.pred, psp_net.out_pre_softmax], feed_dict={net.x: net.img})\n",
    "\treturn result\n",
    "\n",
    "results = exec_net(psp_net, './input/outdoor_1.png')"
   ]
  },
  {
   "cell_type": "code",
   "execution_count": null,
   "metadata": {},
   "outputs": [],
   "source": [
    "print(results[0].shape)\n",
    "plt.imshow(results[0][0].astype(np.uint8))"
   ]
  },
  {
   "cell_type": "code",
   "execution_count": null,
   "metadata": {},
   "outputs": [],
   "source": [
    "print(results[1].shape)\n",
    "# (batch, H, W, sem class)\n",
    "# show pre-softmax logits for class 0\n",
    "plt.imshow(results[1][0][:, :, 0])"
   ]
  },
  {
   "cell_type": "code",
   "execution_count": null,
   "metadata": {},
   "outputs": [],
   "source": [
    "# show pre-softmax logits for class 1\n",
    "plt.imshow(results[1][0][:, :, 1])"
   ]
  },
  {
   "cell_type": "code",
   "execution_count": null,
   "metadata": {},
   "outputs": [],
   "source": [
    "def test_class_ignore(logits_pre_softmax):\n",
    "\t\n",
    "\tresult_with_all_classes = np.argmax(logits_pre_softmax, axis=3)\n",
    "\t\n",
    "\tlogits_classes_removed = logits_pre_softmax.copy()\n",
    "\tlogits_classes_removed[:, :, :, :75] = 0\n",
    "\t#logits_classes_removed[:, :, :, [3,5,7,9]] = 0\n",
    "\t\n",
    "\tresult_with_selected_classes = np.argmax(logits_classes_removed, axis=3)\n",
    "\t\n",
    "\tplt.imshow(result_with_all_classes[0])\n",
    "\tplt.figure()\n",
    "\tplt.imshow(result_with_selected_classes[0])\n",
    "\n",
    "test_class_ignore(results[1])"
   ]
  },
  {
   "cell_type": "code",
   "execution_count": null,
   "metadata": {},
   "outputs": [],
   "source": []
  }
 ],
 "metadata": {
  "kernelspec": {
   "display_name": "Python 3",
   "language": "python",
   "name": "python3"
  },
  "language_info": {
   "codemirror_mode": {
    "name": "ipython",
    "version": 3
   },
   "file_extension": ".py",
   "mimetype": "text/x-python",
   "name": "python",
   "nbconvert_exporter": "python",
   "pygments_lexer": "ipython3",
   "version": "3.6.7"
  }
 },
 "nbformat": 4,
 "nbformat_minor": 2
}
